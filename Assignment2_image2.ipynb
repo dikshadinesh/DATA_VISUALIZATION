{
 "cells": [
  {
   "cell_type": "code",
   "execution_count": null,
   "id": "394afc5f",
   "metadata": {},
   "outputs": [],
   "source": [
    "%matplotlib inline\n",
    "import matplotlib.pyplot as plt\n",
    "import numpy as np\n",
    "import PIL.Image"
   ]
  },
  {
   "cell_type": "code",
   "execution_count": null,
   "id": "701f7007",
   "metadata": {},
   "outputs": [],
   "source": [
    "image = PIL.Image.open(\"assignment_image2.jpg\")"
   ]
  },
  {
   "cell_type": "code",
   "execution_count": null,
   "id": "32fe5f1c",
   "metadata": {},
   "outputs": [],
   "source": [
    "image"
   ]
  },
  {
   "cell_type": "code",
   "execution_count": null,
   "id": "b7588463",
   "metadata": {},
   "outputs": [],
   "source": [
    "arr = np.array(image)\n",
    "arr.shape"
   ]
  },
  {
   "cell_type": "code",
   "execution_count": null,
   "id": "e83a9ce6",
   "metadata": {},
   "outputs": [],
   "source": [
    "flat_image = arr.reshape((-1, 3))\n",
    "flat_image.shape\n",
    "flat_image[:10]"
   ]
  },
  {
   "cell_type": "code",
   "execution_count": null,
   "id": "ec17539c",
   "metadata": {},
   "outputs": [],
   "source": [
    "red_only = arr.copy()\n",
    "red_only[:, :, 1] = 0\n",
    "red_only[:, :, 2] = 0\n",
    "\n",
    "green_only = arr.copy()\n",
    "green_only[:, :, 0] = 0\n",
    "green_only[:, :, 2] = 0\n",
    "\n",
    "blue_only = arr.copy()\n",
    "blue_only[:, :, 0] = 0\n",
    "blue_only[:, :, 1] = 0\n",
    "\n",
    "r_img = PIL.Image.fromarray(red_only)\n",
    "g_img = PIL.Image.fromarray(green_only)\n",
    "b_img = PIL.Image.fromarray(blue_only)"
   ]
  },
  {
   "cell_type": "code",
   "execution_count": null,
   "id": "0ef69b7b",
   "metadata": {},
   "outputs": [],
   "source": [
    "r_img"
   ]
  },
  {
   "cell_type": "code",
   "execution_count": null,
   "id": "996ee2e3",
   "metadata": {},
   "outputs": [],
   "source": [
    "b_img"
   ]
  },
  {
   "cell_type": "code",
   "execution_count": null,
   "id": "dccc51e7",
   "metadata": {},
   "outputs": [],
   "source": [
    "g_img"
   ]
  },
  {
   "cell_type": "code",
   "execution_count": null,
   "id": "27b4679a",
   "metadata": {},
   "outputs": [],
   "source": [
    "fig, ax = plt.subplots(2, 1, dpi = 300)\n",
    "ax[0].imshow(arr)\n",
    "ax[1].hist(flat_image[:,0], bins = np.arange(256), alpha=0.5, facecolor = 'red');"
   ]
  },
  {
   "cell_type": "code",
   "execution_count": null,
   "id": "11c5314b",
   "metadata": {},
   "outputs": [],
   "source": [
    "fig, ax = plt.subplots(2, 1, dpi = 300)\n",
    "ax[0].imshow(arr)\n",
    "ax[1].hist(flat_image[:,1], bins = np.arange(256), alpha=0.5, facecolor = 'green');"
   ]
  },
  {
   "cell_type": "code",
   "execution_count": null,
   "id": "817a525d",
   "metadata": {},
   "outputs": [],
   "source": [
    "fig, ax = plt.subplots(2, 1, dpi = 300)\n",
    "ax[0].imshow(arr)\n",
    "ax[1].hist(flat_image[:,2], bins = np.arange(256), alpha=0.5, facecolor = 'blue');"
   ]
  },
  {
   "cell_type": "code",
   "execution_count": null,
   "id": "17e30613",
   "metadata": {},
   "outputs": [],
   "source": [
    "fig, ax = plt.subplots(2, 1, dpi = 300)\n",
    "ax[0].imshow(arr)\n",
    "ax[1].hist(flat_image[:,0], bins = np.arange(256), alpha=0.5, facecolor = 'red');\n",
    "ax[1].hist(flat_image[:,2], bins = np.arange(256), alpha=0.5, facecolor = 'blue');\n",
    "ax[1].hist(flat_image[:,1], bins = np.arange(256), alpha=0.5, facecolor = 'green');"
   ]
  },
  {
   "cell_type": "code",
   "execution_count": null,
   "id": "5fa94f34",
   "metadata": {},
   "outputs": [],
   "source": []
  }
 ],
 "metadata": {
  "kernelspec": {
   "display_name": "Python 3 (ipykernel)",
   "language": "python",
   "name": "python3"
  },
  "language_info": {
   "codemirror_mode": {
    "name": "ipython",
    "version": 3
   },
   "file_extension": ".py",
   "mimetype": "text/x-python",
   "name": "python",
   "nbconvert_exporter": "python",
   "pygments_lexer": "ipython3",
   "version": "3.7.7"
  }
 },
 "nbformat": 4,
 "nbformat_minor": 5
}
